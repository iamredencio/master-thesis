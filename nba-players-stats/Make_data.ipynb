{
 "cells": [
  {
   "cell_type": "code",
   "execution_count": 1,
   "metadata": {},
   "outputs": [],
   "source": [
    "import pandas as pd\n",
    "nba_season_data = pd.read_csv('Seasons_Stats.csv', low_memory=False)\n",
    "player_data = pd.read_csv('player_data.csv', low_memory=False).rename(columns={'name':'Player'})\n",
    "all_players = pd.merge(nba_season_data, player_data, on='Player').fillna(0)\n",
    "NBA_Salary_History = pd.read_csv('NBA_Salary_History - HistoryFormatted.csv', low_memory=False)"
   ]
  },
  {
   "cell_type": "code",
   "execution_count": 4,
   "metadata": {},
   "outputs": [],
   "source": [
    "# ap = all_players[[\n",
    "#  'Year',\n",
    "#  'Player',\n",
    "#  #'Pos',\n",
    "#  'Age',\n",
    "#  #'Tm',\n",
    "#  'G',\n",
    "#  'GS',\n",
    "#  'MP',\n",
    "#  'PER',\n",
    "#  '3PAr',\n",
    "#  'FTr',\n",
    "#  'OWS',\n",
    "#  'DWS',\n",
    "#  'WS',\n",
    "#  'WS/48',\n",
    "#  'OBPM',\n",
    "#  'DBPM',\n",
    "#  'BPM',\n",
    "#  'VORP',\n",
    "#  'FG',\n",
    "#  'FGA',\n",
    "#  '3P',\n",
    "#  '3PA',\n",
    "#  '2P',\n",
    "#  '2PA',\n",
    "#  'FT',\n",
    "#  'FTA',\n",
    "#  'ORB',\n",
    "#  'DRB',\n",
    "#  'TRB',\n",
    "#  'AST',\n",
    "#  'STL',\n",
    "#  'BLK',\n",
    "#  'TOV',\n",
    "#  'PF',\n",
    "#  'PTS',\n",
    "#  #'position',\n",
    "#  'height',\n",
    "#  'weight']]"
   ]
  },
  {
   "cell_type": "code",
   "execution_count": 21,
   "metadata": {},
   "outputs": [],
   "source": [
    "salary = NBA_Salary_History[['YearEnd', 'Team', 'Player', ' Salary ']]\n",
    "salary = salary.rename(columns={' Salary ':'Salary'})\n",
    "salary = salary.rename(columns={'YearEnd':'Year'})\n",
    "player_salary = pd.merge(ap, salary, on=['Player', 'Year']).fillna(0)"
   ]
  },
  {
   "cell_type": "code",
   "execution_count": null,
   "metadata": {},
   "outputs": [],
   "source": [
    "all_players_yearly_average = player_salary.groupby(['Player', 'Year']).mean().reset_index()\n",
    "all_players_5andover = all_players_yearly_average.groupby(['Player', 'Salary']).filter(lambda x: len(x) >=0)"
   ]
  },
  {
   "cell_type": "code",
   "execution_count": 89,
   "metadata": {},
   "outputs": [],
   "source": [
    "# player_salary.Salary.astype(int).describe()\n",
    "all_players =  player_salary.Salary.replace(regex=r'\\$ ', value='').replace(regex=r',', value='')\n",
    "salaries = []\n",
    "for i, sal in enumerate(all_players):\n",
    "    try:\n",
    "        int(sal)\n",
    "        salaries += [sal]\n",
    "    except ValueError:\n",
    "        salaries += [0]\n",
    "        \n",
    "salaries = pd.DataFrame({'Salary': salaries})\n",
    "player_salary['Salary'] = player_salary.Salary.replace(regex=r',', value='')\n",
    "player_salary = pd.merge(player_salary, salaries, on='Salary').fillna(0)"
   ]
  },
  {
   "cell_type": "code",
   "execution_count": null,
   "metadata": {},
   "outputs": [
    {
     "name": "stderr",
     "output_type": "stream",
     "text": [
      "/anaconda3/lib/python3.6/site-packages/pandas/core/indexing.py:194: SettingWithCopyWarning: \n",
      "A value is trying to be set on a copy of a slice from a DataFrame\n",
      "\n",
      "See the caveats in the documentation: http://pandas.pydata.org/pandas-docs/stable/indexing.html#indexing-view-versus-copy\n",
      "  self._setitem_with_indexer(indexer, value)\n",
      "/anaconda3/lib/python3.6/site-packages/ipykernel_launcher.py:6: SettingWithCopyWarning: \n",
      "A value is trying to be set on a copy of a slice from a DataFrame\n",
      "\n",
      "See the caveats in the documentation: http://pandas.pydata.org/pandas-docs/stable/indexing.html#indexing-view-versus-copy\n",
      "  \n"
     ]
    }
   ],
   "source": [
    "#years equality\n",
    "players = list(set(player_salary.Player.tolist()))\n",
    "for player in players:\n",
    "    dataframe = player_salary[player_salary.Player == player]\n",
    "    for i in range(len(dataframe)):\n",
    "        dataframe.Year.iloc[i] = i\n",
    "    player_salary[player_salary.Player == player] = dataframe"
   ]
  },
  {
   "cell_type": "code",
   "execution_count": null,
   "metadata": {},
   "outputs": [],
   "source": [
    "all_players_yearly_average.to_csv('player_salary2000plus.csv', index=False)"
   ]
  },
  {
   "cell_type": "code",
   "execution_count": null,
   "metadata": {},
   "outputs": [],
   "source": []
  }
 ],
 "metadata": {
  "kernelspec": {
   "display_name": "Python 3",
   "language": "python",
   "name": "python3"
  },
  "language_info": {
   "codemirror_mode": {
    "name": "ipython",
    "version": 3
   },
   "file_extension": ".py",
   "mimetype": "text/x-python",
   "name": "python",
   "nbconvert_exporter": "python",
   "pygments_lexer": "ipython3",
   "version": "3.6.4"
  }
 },
 "nbformat": 4,
 "nbformat_minor": 2
}
